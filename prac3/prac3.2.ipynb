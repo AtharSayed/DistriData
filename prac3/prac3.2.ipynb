{
 "cells": [
  {
   "cell_type": "code",
   "execution_count": 1,
   "metadata": {},
   "outputs": [
    {
     "name": "stdout",
     "output_type": "stream",
     "text": [
      "Spark Version: 3.5.4\n"
     ]
    }
   ],
   "source": [
    "from pyspark.sql import SparkSession\n",
    "\n",
    "spark = SparkSession.builder \\\n",
    "         .appName(\"sparkpractice\") \\\n",
    "         .master(\"local[1]\") \\\n",
    "         .config(\"spark.executor.memory\", \"2g\") \\\n",
    "         .config(\"spark.driver.memory\", \"2g\") \\\n",
    "         .getOrCreate()\n",
    "\n",
    "print(f\"Spark Version: {spark.version}\")\n"
   ]
  },
  {
   "cell_type": "code",
   "execution_count": 5,
   "metadata": {},
   "outputs": [],
   "source": [
    "orders_df = spark.read \\\n",
    ".format(\"csv\") \\\n",
    ".option(\"header\", \"true\") \\\n",
    ".option(\"inferSchema\", \"true\") \\\n",
    ".load(r\"C:\\Users\\sayed\\Desktop\\DDP\\prac3\\data\\orders_wh.json\")"
   ]
  },
  {
   "cell_type": "code",
   "execution_count": 6,
   "metadata": {},
   "outputs": [
    {
     "data": {
      "text/html": [
       "\n",
       "            <div>\n",
       "                <p><b>SparkSession - in-memory</b></p>\n",
       "                \n",
       "        <div>\n",
       "            <p><b>SparkContext</b></p>\n",
       "\n",
       "            <p><a href=\"http://DESKTOP-6FSOKDO:4040\">Spark UI</a></p>\n",
       "\n",
       "            <dl>\n",
       "              <dt>Version</dt>\n",
       "                <dd><code>v3.5.4</code></dd>\n",
       "              <dt>Master</dt>\n",
       "                <dd><code>local[1]</code></dd>\n",
       "              <dt>AppName</dt>\n",
       "                <dd><code>sparkpractice</code></dd>\n",
       "            </dl>\n",
       "        </div>\n",
       "        \n",
       "            </div>\n",
       "        "
      ],
      "text/plain": [
       "<pyspark.sql.session.SparkSession at 0x29cc1e824d0>"
      ]
     },
     "execution_count": 6,
     "metadata": {},
     "output_type": "execute_result"
    }
   ],
   "source": [
    "spark"
   ]
  },
  {
   "cell_type": "code",
   "execution_count": null,
   "metadata": {},
   "outputs": [
    {
     "name": "stdout",
     "output_type": "stream",
     "text": [
      "+--------------+------------------------------------+-------------------+------------------------+\n",
      "| {\"order_id\":1|\"order_date\":\"2013-07-25 00:00:00.0\"|\"customer_id\":11599|\"order_status\":\"CLOSED\"}|\n",
      "+--------------+------------------------------------+-------------------+------------------------+\n",
      "| {\"order_id\":2|                \"order_date\":\"201...|  \"customer_id\":256|    \"order_status\":\"P...|\n",
      "| {\"order_id\":3|                \"order_date\":\"201...|\"customer_id\":12111|    \"order_status\":\"C...|\n",
      "| {\"order_id\":4|                \"order_date\":\"201...| \"customer_id\":8827|    \"order_status\":\"C...|\n",
      "| {\"order_id\":5|                \"order_date\":\"201...|\"customer_id\":11318|    \"order_status\":\"C...|\n",
      "| {\"order_id\":6|                \"order_date\":\"201...| \"customer_id\":7130|    \"order_status\":\"C...|\n",
      "| {\"order_id\":7|                \"order_date\":\"201...| \"customer_id\":4530|    \"order_status\":\"C...|\n",
      "| {\"order_id\":8|                \"order_date\":\"201...| \"customer_id\":2911|    \"order_status\":\"P...|\n",
      "| {\"order_id\":9|                \"order_date\":\"201...| \"customer_id\":5657|    \"order_status\":\"P...|\n",
      "|{\"order_id\":10|                \"order_date\":\"201...| \"customer_id\":5648|    \"order_status\":\"P...|\n",
      "|{\"order_id\":11|                \"order_date\":\"201...|  \"customer_id\":918|    \"order_status\":\"P...|\n",
      "|{\"order_id\":12|                \"order_date\":\"201...| \"customer_id\":1837|    \"order_status\":\"C...|\n",
      "|{\"order_id\":13|                \"order_date\":\"201...| \"customer_id\":9149|    \"order_status\":\"P...|\n",
      "|{\"order_id\":14|                \"order_date\":\"201...| \"customer_id\":9842|    \"order_status\":\"P...|\n",
      "|{\"order_id\":15|                \"order_date\":\"201...| \"customer_id\":2568|    \"order_status\":\"C...|\n",
      "|{\"order_id\":16|                \"order_date\":\"201...| \"customer_id\":7276|    \"order_status\":\"P...|\n",
      "|{\"order_id\":17|                \"order_date\":\"201...| \"customer_id\":2667|    \"order_status\":\"C...|\n",
      "|{\"order_id\":18|                \"order_date\":\"201...| \"customer_id\":1205|    \"order_status\":\"C...|\n",
      "|{\"order_id\":19|                \"order_date\":\"201...| \"customer_id\":9488|    \"order_status\":\"P...|\n",
      "|{\"order_id\":20|                \"order_date\":\"201...| \"customer_id\":9198|    \"order_status\":\"P...|\n",
      "|{\"order_id\":21|                \"order_date\":\"201...| \"customer_id\":2711|    \"order_status\":\"P...|\n",
      "+--------------+------------------------------------+-------------------+------------------------+\n",
      "only showing top 20 rows\n",
      "\n"
     ]
    }
   ],
   "source": [
    "orders_df.show()"
   ]
  },
  {
   "cell_type": "code",
   "execution_count": 8,
   "metadata": {},
   "outputs": [
    {
     "name": "stdout",
     "output_type": "stream",
     "text": [
      "+--------------+------------------------------------+-------------------+---------------------------------+\n",
      "|{\"order_id\":1 |\"order_date\":\"2013-07-25 00:00:00.0\"|\"customer_id\":11599|\"order_status\":\"CLOSED\"}         |\n",
      "+--------------+------------------------------------+-------------------+---------------------------------+\n",
      "|{\"order_id\":2 |\"order_date\":\"2013-07-25 00:00:00.0\"|\"customer_id\":256  |\"order_status\":\"PENDING_PAYMENT\"}|\n",
      "|{\"order_id\":3 |\"order_date\":\"2013-07-25 00:00:00.0\"|\"customer_id\":12111|\"order_status\":\"COMPLETE\"}       |\n",
      "|{\"order_id\":4 |\"order_date\":\"2013-07-25 00:00:00.0\"|\"customer_id\":8827 |\"order_status\":\"CLOSED\"}         |\n",
      "|{\"order_id\":5 |\"order_date\":\"2013-07-25 00:00:00.0\"|\"customer_id\":11318|\"order_status\":\"COMPLETE\"}       |\n",
      "|{\"order_id\":6 |\"order_date\":\"2013-07-25 00:00:00.0\"|\"customer_id\":7130 |\"order_status\":\"COMPLETE\"}       |\n",
      "|{\"order_id\":7 |\"order_date\":\"2013-07-25 00:00:00.0\"|\"customer_id\":4530 |\"order_status\":\"COMPLETE\"}       |\n",
      "|{\"order_id\":8 |\"order_date\":\"2013-07-25 00:00:00.0\"|\"customer_id\":2911 |\"order_status\":\"PROCESSING\"}     |\n",
      "|{\"order_id\":9 |\"order_date\":\"2013-07-25 00:00:00.0\"|\"customer_id\":5657 |\"order_status\":\"PENDING_PAYMENT\"}|\n",
      "|{\"order_id\":10|\"order_date\":\"2013-07-25 00:00:00.0\"|\"customer_id\":5648 |\"order_status\":\"PENDING_PAYMENT\"}|\n",
      "|{\"order_id\":11|\"order_date\":\"2013-07-25 00:00:00.0\"|\"customer_id\":918  |\"order_status\":\"PAYMENT_REVIEW\"} |\n",
      "|{\"order_id\":12|\"order_date\":\"2013-07-25 00:00:00.0\"|\"customer_id\":1837 |\"order_status\":\"CLOSED\"}         |\n",
      "|{\"order_id\":13|\"order_date\":\"2013-07-25 00:00:00.0\"|\"customer_id\":9149 |\"order_status\":\"PENDING_PAYMENT\"}|\n",
      "|{\"order_id\":14|\"order_date\":\"2013-07-25 00:00:00.0\"|\"customer_id\":9842 |\"order_status\":\"PROCESSING\"}     |\n",
      "|{\"order_id\":15|\"order_date\":\"2013-07-25 00:00:00.0\"|\"customer_id\":2568 |\"order_status\":\"COMPLETE\"}       |\n",
      "|{\"order_id\":16|\"order_date\":\"2013-07-25 00:00:00.0\"|\"customer_id\":7276 |\"order_status\":\"PENDING_PAYMENT\"}|\n",
      "|{\"order_id\":17|\"order_date\":\"2013-07-25 00:00:00.0\"|\"customer_id\":2667 |\"order_status\":\"COMPLETE\"}       |\n",
      "|{\"order_id\":18|\"order_date\":\"2013-07-25 00:00:00.0\"|\"customer_id\":1205 |\"order_status\":\"CLOSED\"}         |\n",
      "|{\"order_id\":19|\"order_date\":\"2013-07-25 00:00:00.0\"|\"customer_id\":9488 |\"order_status\":\"PENDING_PAYMENT\"}|\n",
      "|{\"order_id\":20|\"order_date\":\"2013-07-25 00:00:00.0\"|\"customer_id\":9198 |\"order_status\":\"PROCESSING\"}     |\n",
      "|{\"order_id\":21|\"order_date\":\"2013-07-25 00:00:00.0\"|\"customer_id\":2711 |\"order_status\":\"PENDING\"}        |\n",
      "+--------------+------------------------------------+-------------------+---------------------------------+\n",
      "only showing top 20 rows\n",
      "\n"
     ]
    }
   ],
   "source": [
    "orders_df.show(truncate=False)"
   ]
  },
  {
   "cell_type": "code",
   "execution_count": null,
   "metadata": {},
   "outputs": [],
   "source": []
  }
 ],
 "metadata": {
  "kernelspec": {
   "display_name": "Python 3",
   "language": "python",
   "name": "python3"
  },
  "language_info": {
   "codemirror_mode": {
    "name": "ipython",
    "version": 3
   },
   "file_extension": ".py",
   "mimetype": "text/x-python",
   "name": "python",
   "nbconvert_exporter": "python",
   "pygments_lexer": "ipython3",
   "version": "3.11.3"
  }
 },
 "nbformat": 4,
 "nbformat_minor": 2
}
