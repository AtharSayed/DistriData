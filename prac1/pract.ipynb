{
 "cells": [
  {
   "cell_type": "code",
   "execution_count": 1,
   "metadata": {},
   "outputs": [],
   "source": [
    "from pyspark.sql import SparkSession "
   ]
  },
  {
   "cell_type": "code",
   "execution_count": 2,
   "metadata": {},
   "outputs": [],
   "source": [
    "spark = SparkSession.builder.master(\"local\").appName(\"word_count\").getOrCreate()\n",
    "rdd1 = spark.sparkContext.textFile(\"C:/Users/sayed/Desktop/DDP/prac1/tempdata.txt\")\n",
    "rdd1.collect()\n",
    "rdd2= rdd1.flatMap(lambda x : x.split(\" \"))\n",
    "rdd3 = rdd2.map(lambda word :(word,1))"
   ]
  },
  {
   "cell_type": "code",
   "execution_count": 3,
   "metadata": {},
   "outputs": [
    {
     "name": "stdout",
     "output_type": "stream",
     "text": [
      "[('hello', 1), ('my', 3), ('name', 1), ('is', 1), ('athar', 1), ('', 3), ('i', 3), ('am', 2), ('from', 1), ('mumbai', 1)]\n"
     ]
    }
   ],
   "source": [
    "rdd4 = rdd3.reduceByKey(lambda x,y : x+y)\n",
    "result = rdd4.take(10)  # Get only the first 10 word counts\n",
    "print(result)"
   ]
  },
  {
   "cell_type": "code",
   "execution_count": null,
   "metadata": {},
   "outputs": [],
   "source": []
  }
 ],
 "metadata": {
  "kernelspec": {
   "display_name": "Python 3",
   "language": "python",
   "name": "python3"
  },
  "language_info": {
   "codemirror_mode": {
    "name": "ipython",
    "version": 3
   },
   "file_extension": ".py",
   "mimetype": "text/x-python",
   "name": "python",
   "nbconvert_exporter": "python",
   "pygments_lexer": "ipython3",
   "version": "3.11.3"
  }
 },
 "nbformat": 4,
 "nbformat_minor": 2
}
