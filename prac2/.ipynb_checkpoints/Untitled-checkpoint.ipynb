{
 "cells": [
  {
   "cell_type": "code",
   "execution_count": 5,
   "id": "857d289d-e354-433e-b209-9409fcbd2f66",
   "metadata": {},
   "outputs": [],
   "source": [
    "from pyspark.sql import SparkSession\n",
    "\n",
    "spark = SparkSession. \\\n",
    "    builder.\\\n",
    "    appName(\"orders1\").\\\n",
    "    master(\"local\"). \\\n",
    "    getOrCreate()  # Corrected method name\n",
    "\n",
    "# Now you can use 'spark' to work with your Spark session\n"
   ]
  },
  {
   "cell_type": "code",
   "execution_count": 9,
   "id": "e1a44945-d764-4e73-99d7-220e32642e34",
   "metadata": {},
   "outputs": [],
   "source": [
    "rs_rdd = spark.sparkContext.textFile(\"C:/Users/sayed/Desktop/DDP/prac3/data/part-00000\")\n"
   ]
  },
  {
   "cell_type": "code",
   "execution_count": 15,
   "id": "5c7278f6-e044-4933-8ecc-162ca237c443",
   "metadata": {},
   "outputs": [
    {
     "name": "stdout",
     "output_type": "stream",
     "text": [
      "['1,2013-07-25 00:00:00.0,11599,CLOSED', '2,2013-07-25 00:00:00.0,256,PENDING_PAYMENT', '3,2013-07-25 00:00:00.0,12111,COMPLETE', '4,2013-07-25 00:00:00.0,8827,CLOSED', '5,2013-07-25 00:00:00.0,11318,COMPLETE']\n"
     ]
    }
   ],
   "source": [
    "# Now collect the first 5 records from the RDD\n",
    "first_5_orders = rs_rdd.collect()[:5]\n",
    "\n",
    "# Print the first 5 records\n",
    "print(first_5_orders)"
   ]
  },
  {
   "cell_type": "code",
   "execution_count": 17,
   "id": "370bff8a-f6bc-43d6-9510-b9a644b9b6b8",
   "metadata": {},
   "outputs": [
    {
     "ename": "SyntaxError",
     "evalue": "incomplete input (1262559725.py, line 1)",
     "output_type": "error",
     "traceback": [
      "\u001b[1;36m  Cell \u001b[1;32mIn[17], line 1\u001b[1;36m\u001b[0m\n\u001b[1;33m    mapped_rdd = orders_rdd.map(lambda x:(x.split(\".\")[3],)\u001b[0m\n\u001b[1;37m                                                           ^\u001b[0m\n\u001b[1;31mSyntaxError\u001b[0m\u001b[1;31m:\u001b[0m incomplete input\n"
     ]
    }
   ],
   "source": [
    "mapped_rdd = orders_rdd.map(lambda x: (x.split(\".\")[3],))  # Fixed the parentheses\n"
   ]
  },
  {
   "cell_type": "code",
   "execution_count": null,
   "id": "19144acd-be10-4396-9f9b-4f7f52bb314e",
   "metadata": {},
   "outputs": [],
   "source": []
  }
 ],
 "metadata": {
  "kernelspec": {
   "display_name": "Python 3 (ipykernel)",
   "language": "python",
   "name": "python3"
  },
  "language_info": {
   "codemirror_mode": {
    "name": "ipython",
    "version": 3
   },
   "file_extension": ".py",
   "mimetype": "text/x-python",
   "name": "python",
   "nbconvert_exporter": "python",
   "pygments_lexer": "ipython3",
   "version": "3.12.4"
  }
 },
 "nbformat": 4,
 "nbformat_minor": 5
}
