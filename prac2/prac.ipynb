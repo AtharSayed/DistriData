{
 "cells": [
  {
   "cell_type": "code",
   "execution_count": 1,
   "id": "a9108136",
   "metadata": {},
   "outputs": [],
   "source": [
    "from pyspark.sql import SparkSession\n",
    "spark = SparkSession. \\\n",
    "builder. \\\n",
    "appName(\"orders1\").\\\n",
    "master('local'). \\\n",
    "getOrCreate()"
   ]
  },
  {
   "cell_type": "code",
   "execution_count": 2,
   "id": "d93c1bbc",
   "metadata": {},
   "outputs": [],
   "source": [
    "orders_rdd = spark.sparkContext.textFile(\"D:\\\\Data_Engg\\\\ultimate_datasets\\\\trendytech\\\\retail_db\\\\orders\\\\*\")"
   ]
  },
  {
   "cell_type": "code",
   "execution_count": 4,
   "id": "55b7d927",
   "metadata": {},
   "outputs": [
    {
     "data": {
      "text/plain": [
       "['1,2013-07-25 00:00:00.0,11599,CLOSED',\n",
       " '2,2013-07-25 00:00:00.0,256,PENDING_PAYMENT',\n",
       " '3,2013-07-25 00:00:00.0,12111,COMPLETE',\n",
       " '4,2013-07-25 00:00:00.0,8827,CLOSED',\n",
       " '5,2013-07-25 00:00:00.0,11318,COMPLETE']"
      ]
     },
     "execution_count": 4,
     "metadata": {},
     "output_type": "execute_result"
    }
   ],
   "source": [
    "orders_rdd.collect()[:5]"
   ]
  },
  {
   "cell_type": "code",
   "execution_count": 5,
   "id": "205aae19",
   "metadata": {},
   "outputs": [],
   "source": [
    "mapped_rdd = orders_rdd.map(lambda x:(x.split(\",\")[3],1))"
   ]
  },
  {
   "cell_type": "code",
   "execution_count": 7,
   "id": "c218835e",
   "metadata": {},
   "outputs": [
    {
     "data": {
      "text/plain": [
       "[('CLOSED', 1),\n",
       " ('PENDING_PAYMENT', 1),\n",
       " ('COMPLETE', 1),\n",
       " ('CLOSED', 1),\n",
       " ('COMPLETE', 1)]"
      ]
     },
     "execution_count": 7,
     "metadata": {},
     "output_type": "execute_result"
    }
   ],
   "source": [
    "mapped_rdd.collect()[:5]"
   ]
  },
  {
   "cell_type": "code",
   "execution_count": 8,
   "id": "cabe67b2",
   "metadata": {},
   "outputs": [],
   "source": [
    "reduced_rdd = mapped_rdd.reduceByKey(lambda x,y:x+y)"
   ]
  },
  {
   "cell_type": "markdown",
   "id": "9d98ac62",
   "metadata": {},
   "source": [
    "#### Orders in each category (COMPLETE, PENDING_PAYMENT,CLOSED..)"
   ]
  },
  {
   "cell_type": "code",
   "execution_count": 9,
   "id": "0893a303",
   "metadata": {},
   "outputs": [
    {
     "data": {
      "text/plain": [
       "[('CLOSED', 7556),\n",
       " ('PENDING_PAYMENT', 15030),\n",
       " ('COMPLETE', 22899),\n",
       " ('PROCESSING', 8275),\n",
       " ('PAYMENT_REVIEW', 729),\n",
       " ('PENDING', 7610),\n",
       " ('ON_HOLD', 3798),\n",
       " ('CANCELED', 1428),\n",
       " ('SUSPECTED_FRAUD', 1558)]"
      ]
     },
     "execution_count": 9,
     "metadata": {},
     "output_type": "execute_result"
    }
   ],
   "source": [
    "reduced_rdd.collect()"
   ]
  },
  {
   "cell_type": "code",
   "execution_count": 10,
   "id": "209b2496",
   "metadata": {},
   "outputs": [],
   "source": [
    "reduced_sorted = reduced_rdd.sortBy(lambda x:x[1],False)"
   ]
  },
  {
   "cell_type": "code",
   "execution_count": 11,
   "id": "87bbee90",
   "metadata": {},
   "outputs": [
    {
     "data": {
      "text/plain": [
       "[('COMPLETE', 22899),\n",
       " ('PENDING_PAYMENT', 15030),\n",
       " ('PROCESSING', 8275),\n",
       " ('PENDING', 7610),\n",
       " ('CLOSED', 7556),\n",
       " ('ON_HOLD', 3798),\n",
       " ('SUSPECTED_FRAUD', 1558),\n",
       " ('CANCELED', 1428),\n",
       " ('PAYMENT_REVIEW', 729)]"
      ]
     },
     "execution_count": 11,
     "metadata": {},
     "output_type": "execute_result"
    }
   ],
   "source": [
    "reduced_sorted.collect()"
   ]
  },
  {
   "cell_type": "markdown",
   "id": "9bc6580b",
   "metadata": {},
   "source": [
    "#### Premium Customers (Top 10 customers who placed most of the orders)"
   ]
  },
  {
   "cell_type": "code",
   "execution_count": 12,
   "id": "f38fabdf",
   "metadata": {},
   "outputs": [],
   "source": [
    "customers_mapped = orders_rdd.map(lambda x:(x.split(\",\")[2],1))"
   ]
  },
  {
   "cell_type": "code",
   "execution_count": 14,
   "id": "be817fb8",
   "metadata": {},
   "outputs": [
    {
     "data": {
      "text/plain": [
       "[('11599', 1), ('256', 1), ('12111', 1), ('8827', 1), ('11318', 1)]"
      ]
     },
     "execution_count": 14,
     "metadata": {},
     "output_type": "execute_result"
    }
   ],
   "source": [
    "customers_mapped.collect()[:5]"
   ]
  },
  {
   "cell_type": "code",
   "execution_count": 15,
   "id": "1d81e032",
   "metadata": {},
   "outputs": [],
   "source": [
    "customers_aggregated = customers_mapped.reduceByKey(lambda x,y:x+y)"
   ]
  },
  {
   "cell_type": "code",
   "execution_count": 16,
   "id": "303a7c36",
   "metadata": {},
   "outputs": [
    {
     "data": {
      "text/plain": [
       "[('11599', 5),\n",
       " ('256', 10),\n",
       " ('12111', 6),\n",
       " ('8827', 6),\n",
       " ('11318', 6),\n",
       " ('7130', 7),\n",
       " ('4530', 10),\n",
       " ('2911', 6),\n",
       " ('5657', 12),\n",
       " ('5648', 13),\n",
       " ('918', 5),\n",
       " ('1837', 6),\n",
       " ('9149', 4),\n",
       " ('9842', 7),\n",
       " ('2568', 6),\n",
       " ('7276', 5),\n",
       " ('2667', 7),\n",
       " ('1205', 7),\n",
       " ('9488', 7),\n",
       " ('9198', 7)]"
      ]
     },
     "execution_count": 16,
     "metadata": {},
     "output_type": "execute_result"
    }
   ],
   "source": [
    "customers_aggregated.take(20)"
   ]
  },
  {
   "cell_type": "code",
   "execution_count": 17,
   "id": "2c57a1fb",
   "metadata": {},
   "outputs": [],
   "source": [
    "customers_sorted = customers_aggregated.sortBy(lambda x:x[1],False)"
   ]
  },
  {
   "cell_type": "code",
   "execution_count": 18,
   "id": "2107b904",
   "metadata": {},
   "outputs": [
    {
     "data": {
      "text/plain": [
       "[('6316', 16),\n",
       " ('12431', 16),\n",
       " ('5897', 16),\n",
       " ('569', 16),\n",
       " ('4320', 15),\n",
       " ('5283', 15),\n",
       " ('12284', 15),\n",
       " ('5654', 15),\n",
       " ('221', 15),\n",
       " ('5624', 15)]"
      ]
     },
     "execution_count": 18,
     "metadata": {},
     "output_type": "execute_result"
    }
   ],
   "source": [
    "customers_sorted.take(10)"
   ]
  },
  {
   "cell_type": "markdown",
   "id": "9a0ba756",
   "metadata": {},
   "source": [
    "#### Distinct customers who placed atleast 1 order"
   ]
  },
  {
   "cell_type": "code",
   "execution_count": 19,
   "id": "82fd8348",
   "metadata": {},
   "outputs": [],
   "source": [
    "distinct_customers = orders_rdd.map(lambda x:(x.split(\",\")[2])).distinct()"
   ]
  },
  {
   "cell_type": "code",
   "execution_count": 20,
   "id": "255a3c4e",
   "metadata": {},
   "outputs": [
    {
     "data": {
      "text/plain": [
       "12405"
      ]
     },
     "execution_count": 20,
     "metadata": {},
     "output_type": "execute_result"
    }
   ],
   "source": [
    "distinct_customers.count()"
   ]
  },
  {
   "cell_type": "code",
   "execution_count": 21,
   "id": "5f7161e4",
   "metadata": {},
   "outputs": [
    {
     "data": {
      "text/plain": [
       "68883"
      ]
     },
     "execution_count": 21,
     "metadata": {},
     "output_type": "execute_result"
    }
   ],
   "source": [
    "orders_rdd.count()"
   ]
  },
  {
   "cell_type": "markdown",
   "id": "beb2744a",
   "metadata": {},
   "source": [
    "#### Customers having maximum number of CLOSED orders"
   ]
  },
  {
   "cell_type": "code",
   "execution_count": 22,
   "id": "0329adbd",
   "metadata": {},
   "outputs": [],
   "source": [
    "filtered_orders = orders_rdd.filter(lambda x:x.split(\",\")[3] == 'CLOSED')"
   ]
  },
  {
   "cell_type": "code",
   "execution_count": 23,
   "id": "cc163596",
   "metadata": {},
   "outputs": [
    {
     "data": {
      "text/plain": [
       "['1,2013-07-25 00:00:00.0,11599,CLOSED',\n",
       " '4,2013-07-25 00:00:00.0,8827,CLOSED',\n",
       " '12,2013-07-25 00:00:00.0,1837,CLOSED',\n",
       " '18,2013-07-25 00:00:00.0,1205,CLOSED',\n",
       " '24,2013-07-25 00:00:00.0,11441,CLOSED',\n",
       " '25,2013-07-25 00:00:00.0,9503,CLOSED',\n",
       " '37,2013-07-25 00:00:00.0,5863,CLOSED',\n",
       " '51,2013-07-25 00:00:00.0,12271,CLOSED',\n",
       " '57,2013-07-25 00:00:00.0,7073,CLOSED',\n",
       " '61,2013-07-25 00:00:00.0,4791,CLOSED',\n",
       " '62,2013-07-25 00:00:00.0,9111,CLOSED',\n",
       " '87,2013-07-25 00:00:00.0,3065,CLOSED',\n",
       " '90,2013-07-25 00:00:00.0,9131,CLOSED',\n",
       " '101,2013-07-25 00:00:00.0,5116,CLOSED',\n",
       " '116,2013-07-26 00:00:00.0,8763,CLOSED',\n",
       " '129,2013-07-26 00:00:00.0,9937,CLOSED',\n",
       " '133,2013-07-26 00:00:00.0,10604,CLOSED',\n",
       " '191,2013-07-26 00:00:00.0,16,CLOSED',\n",
       " '201,2013-07-26 00:00:00.0,9055,CLOSED',\n",
       " '211,2013-07-26 00:00:00.0,10372,CLOSED']"
      ]
     },
     "execution_count": 23,
     "metadata": {},
     "output_type": "execute_result"
    }
   ],
   "source": [
    "filtered_orders.take(20)"
   ]
  },
  {
   "cell_type": "code",
   "execution_count": 24,
   "id": "521ef5a0",
   "metadata": {},
   "outputs": [],
   "source": [
    "filtered_mapped = filtered_orders.map(lambda x:(x.split(\",\")[2],1))"
   ]
  },
  {
   "cell_type": "code",
   "execution_count": 26,
   "id": "4c46b761",
   "metadata": {},
   "outputs": [],
   "source": [
    "filtered_aggregated = filtered_mapped.reduceByKey(lambda x,y:x+y)"
   ]
  },
  {
   "cell_type": "code",
   "execution_count": 27,
   "id": "5917b49f",
   "metadata": {},
   "outputs": [
    {
     "data": {
      "text/plain": [
       "[('11599', 1),\n",
       " ('8827', 1),\n",
       " ('1837', 2),\n",
       " ('1205', 3),\n",
       " ('11441', 2),\n",
       " ('9503', 1),\n",
       " ('5863', 1),\n",
       " ('12271', 2),\n",
       " ('7073', 1),\n",
       " ('4791', 1),\n",
       " ('9111', 1),\n",
       " ('3065', 2),\n",
       " ('9131', 1),\n",
       " ('5116', 2),\n",
       " ('8763', 1),\n",
       " ('9937', 1),\n",
       " ('10604', 2),\n",
       " ('16', 1),\n",
       " ('9055', 3),\n",
       " ('10372', 3)]"
      ]
     },
     "execution_count": 27,
     "metadata": {},
     "output_type": "execute_result"
    }
   ],
   "source": [
    "filtered_aggregated.take(20)"
   ]
  },
  {
   "cell_type": "code",
   "execution_count": 28,
   "id": "315e3ef3",
   "metadata": {},
   "outputs": [],
   "source": [
    "filtered_sorted = filtered_aggregated.sortBy(lambda x:x[1],False)"
   ]
  },
  {
   "cell_type": "code",
   "execution_count": 29,
   "id": "dbe08a05",
   "metadata": {},
   "outputs": [
    {
     "data": {
      "text/plain": [
       "[('1833', 6),\n",
       " ('1363', 5),\n",
       " ('1687', 5),\n",
       " ('5493', 5),\n",
       " ('5011', 4),\n",
       " ('8974', 4),\n",
       " ('2321', 4),\n",
       " ('3736', 4),\n",
       " ('8368', 4),\n",
       " ('9740', 4)]"
      ]
     },
     "execution_count": 29,
     "metadata": {},
     "output_type": "execute_result"
    }
   ],
   "source": [
    "filtered_sorted.take(10)"
   ]
  },
  {
   "cell_type": "code",
   "execution_count": null,
   "id": "4c1e5bce",
   "metadata": {},
   "outputs": [],
   "source": []
  }
 ],
 "metadata": {
  "kernelspec": {
   "display_name": "sparklabs",
   "language": "python",
   "name": "python3"
  },
  "language_info": {
   "codemirror_mode": {
    "name": "ipython",
    "version": 3
   },
   "file_extension": ".py",
   "mimetype": "text/x-python",
   "name": "python",
   "nbconvert_exporter": "python",
   "pygments_lexer": "ipython3",
   "version": "3.10.16"
  }
 },
 "nbformat": 4,
 "nbformat_minor": 5
}
