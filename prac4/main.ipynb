{
 "cells": [
  {
   "cell_type": "code",
   "execution_count": 2,
   "metadata": {},
   "outputs": [],
   "source": [
    "from pyspark.sql import SparkSession"
   ]
  },
  {
   "cell_type": "code",
   "execution_count": 3,
   "metadata": {},
   "outputs": [],
   "source": [
    "spark = SparkSession.spark = SparkSession.builder.appName(\"lab-4\").getOrCreate()\n"
   ]
  },
  {
   "cell_type": "code",
   "execution_count": 4,
   "metadata": {},
   "outputs": [
    {
     "data": {
      "text/html": [
       "\n",
       "            <div>\n",
       "                <p><b>SparkSession - in-memory</b></p>\n",
       "                \n",
       "        <div>\n",
       "            <p><b>SparkContext</b></p>\n",
       "\n",
       "            <p><a href=\"http://DESKTOP-6FSOKDO:4040\">Spark UI</a></p>\n",
       "\n",
       "            <dl>\n",
       "              <dt>Version</dt>\n",
       "                <dd><code>v3.5.4</code></dd>\n",
       "              <dt>Master</dt>\n",
       "                <dd><code>local[*]</code></dd>\n",
       "              <dt>AppName</dt>\n",
       "                <dd><code>lab-4</code></dd>\n",
       "            </dl>\n",
       "        </div>\n",
       "        \n",
       "            </div>\n",
       "        "
      ],
      "text/plain": [
       "<pyspark.sql.session.SparkSession at 0x27ada7e2690>"
      ]
     },
     "execution_count": 4,
     "metadata": {},
     "output_type": "execute_result"
    }
   ],
   "source": [
    "spark"
   ]
  },
  {
   "cell_type": "code",
   "execution_count": 5,
   "metadata": {},
   "outputs": [],
   "source": [
    "lab_4data= spark.read.csv(r\"C:\\Users\\sayed\\Desktop\\DDP\\prac4\\dataset\\part-00000\")"
   ]
  },
  {
   "cell_type": "code",
   "execution_count": 6,
   "metadata": {},
   "outputs": [
    {
     "name": "stdout",
     "output_type": "stream",
     "text": [
      "+---+--------------------+-----+---------------+\n",
      "|_c0|                 _c1|  _c2|            _c3|\n",
      "+---+--------------------+-----+---------------+\n",
      "|  1|2013-07-25 00:00:...|11599|         CLOSED|\n",
      "|  2|2013-07-25 00:00:...|  256|PENDING_PAYMENT|\n",
      "|  3|2013-07-25 00:00:...|12111|       COMPLETE|\n",
      "|  4|2013-07-25 00:00:...| 8827|         CLOSED|\n",
      "|  5|2013-07-25 00:00:...|11318|       COMPLETE|\n",
      "|  6|2013-07-25 00:00:...| 7130|       COMPLETE|\n",
      "|  7|2013-07-25 00:00:...| 4530|       COMPLETE|\n",
      "|  8|2013-07-25 00:00:...| 2911|     PROCESSING|\n",
      "|  9|2013-07-25 00:00:...| 5657|PENDING_PAYMENT|\n",
      "| 10|2013-07-25 00:00:...| 5648|PENDING_PAYMENT|\n",
      "| 11|2013-07-25 00:00:...|  918| PAYMENT_REVIEW|\n",
      "| 12|2013-07-25 00:00:...| 1837|         CLOSED|\n",
      "| 13|2013-07-25 00:00:...| 9149|PENDING_PAYMENT|\n",
      "| 14|2013-07-25 00:00:...| 9842|     PROCESSING|\n",
      "| 15|2013-07-25 00:00:...| 2568|       COMPLETE|\n",
      "| 16|2013-07-25 00:00:...| 7276|PENDING_PAYMENT|\n",
      "| 17|2013-07-25 00:00:...| 2667|       COMPLETE|\n",
      "| 18|2013-07-25 00:00:...| 1205|         CLOSED|\n",
      "| 19|2013-07-25 00:00:...| 9488|PENDING_PAYMENT|\n",
      "| 20|2013-07-25 00:00:...| 9198|     PROCESSING|\n",
      "+---+--------------------+-----+---------------+\n",
      "only showing top 20 rows\n",
      "\n"
     ]
    }
   ],
   "source": [
    "lab_4data.show()"
   ]
  },
  {
   "cell_type": "code",
   "execution_count": 7,
   "metadata": {},
   "outputs": [],
   "source": [
    "lab_4data = lab_4data.withColumnRenamed(\"_c0\", \"id\") \\\n",
    "               .withColumnRenamed(\"_c1\", \"timestamp\") \\\n",
    "               .withColumnRenamed(\"_c2\", \"amount\") \\\n",
    "               .withColumnRenamed(\"_c3\", \"status\")"
   ]
  },
  {
   "cell_type": "code",
   "execution_count": 8,
   "metadata": {},
   "outputs": [
    {
     "name": "stdout",
     "output_type": "stream",
     "text": [
      "+---+--------------------+------+---------------+\n",
      "| id|           timestamp|amount|         status|\n",
      "+---+--------------------+------+---------------+\n",
      "|  1|2013-07-25 00:00:...| 11599|         CLOSED|\n",
      "|  2|2013-07-25 00:00:...|   256|PENDING_PAYMENT|\n",
      "|  3|2013-07-25 00:00:...| 12111|       COMPLETE|\n",
      "|  4|2013-07-25 00:00:...|  8827|         CLOSED|\n",
      "|  5|2013-07-25 00:00:...| 11318|       COMPLETE|\n",
      "|  6|2013-07-25 00:00:...|  7130|       COMPLETE|\n",
      "|  7|2013-07-25 00:00:...|  4530|       COMPLETE|\n",
      "|  8|2013-07-25 00:00:...|  2911|     PROCESSING|\n",
      "|  9|2013-07-25 00:00:...|  5657|PENDING_PAYMENT|\n",
      "| 10|2013-07-25 00:00:...|  5648|PENDING_PAYMENT|\n",
      "| 11|2013-07-25 00:00:...|   918| PAYMENT_REVIEW|\n",
      "| 12|2013-07-25 00:00:...|  1837|         CLOSED|\n",
      "| 13|2013-07-25 00:00:...|  9149|PENDING_PAYMENT|\n",
      "| 14|2013-07-25 00:00:...|  9842|     PROCESSING|\n",
      "| 15|2013-07-25 00:00:...|  2568|       COMPLETE|\n",
      "| 16|2013-07-25 00:00:...|  7276|PENDING_PAYMENT|\n",
      "| 17|2013-07-25 00:00:...|  2667|       COMPLETE|\n",
      "| 18|2013-07-25 00:00:...|  1205|         CLOSED|\n",
      "| 19|2013-07-25 00:00:...|  9488|PENDING_PAYMENT|\n",
      "| 20|2013-07-25 00:00:...|  9198|     PROCESSING|\n",
      "+---+--------------------+------+---------------+\n",
      "only showing top 20 rows\n",
      "\n"
     ]
    }
   ],
   "source": [
    "lab_4data.show()"
   ]
  },
  {
   "cell_type": "code",
   "execution_count": 9,
   "metadata": {},
   "outputs": [
    {
     "name": "stdout",
     "output_type": "stream",
     "text": [
      "+---+--------------------+------+---------------+\n",
      "| id|           timestamp|amount|         status|\n",
      "+---+--------------------+------+---------------+\n",
      "|  2|2013-07-25 00:00:...|   256|PENDING_PAYMENT|\n",
      "|  9|2013-07-25 00:00:...|  5657|PENDING_PAYMENT|\n",
      "| 10|2013-07-25 00:00:...|  5648|PENDING_PAYMENT|\n",
      "| 13|2013-07-25 00:00:...|  9149|PENDING_PAYMENT|\n",
      "| 16|2013-07-25 00:00:...|  7276|PENDING_PAYMENT|\n",
      "| 19|2013-07-25 00:00:...|  9488|PENDING_PAYMENT|\n",
      "| 23|2013-07-25 00:00:...|  4367|PENDING_PAYMENT|\n",
      "| 27|2013-07-25 00:00:...|  3241|PENDING_PAYMENT|\n",
      "| 30|2013-07-25 00:00:...| 10039|PENDING_PAYMENT|\n",
      "| 33|2013-07-25 00:00:...|  5793|PENDING_PAYMENT|\n",
      "| 40|2013-07-25 00:00:...| 12092|PENDING_PAYMENT|\n",
      "| 41|2013-07-25 00:00:...|  8136|PENDING_PAYMENT|\n",
      "| 43|2013-07-25 00:00:...|  7776|PENDING_PAYMENT|\n",
      "| 47|2013-07-25 00:00:...|  8487|PENDING_PAYMENT|\n",
      "| 52|2013-07-25 00:00:...|  5126|PENDING_PAYMENT|\n",
      "| 54|2013-07-25 00:00:...| 10628|PENDING_PAYMENT|\n",
      "| 58|2013-07-25 00:00:...|  9213|PENDING_PAYMENT|\n",
      "| 59|2013-07-25 00:00:...| 11644|PENDING_PAYMENT|\n",
      "| 60|2013-07-25 00:00:...|  8365|PENDING_PAYMENT|\n",
      "| 64|2013-07-25 00:00:...|  5579|PENDING_PAYMENT|\n",
      "+---+--------------------+------+---------------+\n",
      "only showing top 20 rows\n",
      "\n"
     ]
    }
   ],
   "source": [
    "lab_4data.filter(\"status == 'PENDING_PAYMENT'\").show()  # Filtering the pending payment from the transaction status \n"
   ]
  },
  {
   "cell_type": "code",
   "execution_count": 10,
   "metadata": {},
   "outputs": [
    {
     "name": "stdout",
     "output_type": "stream",
     "text": [
      "+---+--------------------+------+---------------+\n",
      "| id|           timestamp|amount|         status|\n",
      "+---+--------------------+------+---------------+\n",
      "| 30|2013-07-25 00:00:...| 10039|PENDING_PAYMENT|\n",
      "| 40|2013-07-25 00:00:...| 12092|PENDING_PAYMENT|\n",
      "| 54|2013-07-25 00:00:...| 10628|PENDING_PAYMENT|\n",
      "| 59|2013-07-25 00:00:...| 11644|PENDING_PAYMENT|\n",
      "| 70|2013-07-25 00:00:...| 11809|PENDING_PAYMENT|\n",
      "| 99|2013-07-25 00:00:...| 11542|PENDING_PAYMENT|\n",
      "|113|2013-07-26 00:00:...| 10216|PENDING_PAYMENT|\n",
      "|134|2013-07-26 00:00:...| 12081|PENDING_PAYMENT|\n",
      "|159|2013-07-26 00:00:...| 10974|PENDING_PAYMENT|\n",
      "|168|2013-07-26 00:00:...| 11794|PENDING_PAYMENT|\n",
      "|185|2013-07-26 00:00:...| 10966|PENDING_PAYMENT|\n",
      "|203|2013-07-26 00:00:...| 11791|PENDING_PAYMENT|\n",
      "|237|2013-07-26 00:00:...| 11438|PENDING_PAYMENT|\n",
      "|273|2013-07-26 00:00:...| 10665|PENDING_PAYMENT|\n",
      "|275|2013-07-26 00:00:...| 10942|PENDING_PAYMENT|\n",
      "|292|2013-07-26 00:00:...| 11971|PENDING_PAYMENT|\n",
      "|314|2013-07-26 00:00:...| 10033|PENDING_PAYMENT|\n",
      "|378|2013-07-27 00:00:...| 10071|PENDING_PAYMENT|\n",
      "|383|2013-07-27 00:00:...| 10509|PENDING_PAYMENT|\n",
      "|417|2013-07-27 00:00:...| 11491|PENDING_PAYMENT|\n",
      "+---+--------------------+------+---------------+\n",
      "only showing top 20 rows\n",
      "\n"
     ]
    }
   ],
   "source": [
    "from pyspark.sql.functions import col\n",
    "\n",
    "lab_4data.filter((col(\"status\") == \"PENDING_PAYMENT\") & (col(\"amount\") >= 10000)).show()\n"
   ]
  },
  {
   "cell_type": "code",
   "execution_count": null,
   "metadata": {},
   "outputs": [],
   "source": []
  }
 ],
 "metadata": {
  "kernelspec": {
   "display_name": "Python 3",
   "language": "python",
   "name": "python3"
  },
  "language_info": {
   "codemirror_mode": {
    "name": "ipython",
    "version": 3
   },
   "file_extension": ".py",
   "mimetype": "text/x-python",
   "name": "python",
   "nbconvert_exporter": "python",
   "pygments_lexer": "ipython3",
   "version": "3.11.3"
  }
 },
 "nbformat": 4,
 "nbformat_minor": 2
}
