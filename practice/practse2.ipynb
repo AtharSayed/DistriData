{
 "cells": [
  {
   "cell_type": "code",
   "execution_count": 2,
   "metadata": {},
   "outputs": [],
   "source": [
    "import pyspark"
   ]
  },
  {
   "cell_type": "code",
   "execution_count": 3,
   "metadata": {},
   "outputs": [
    {
     "data": {
      "text/html": [
       "<div>\n",
       "<style scoped>\n",
       "    .dataframe tbody tr th:only-of-type {\n",
       "        vertical-align: middle;\n",
       "    }\n",
       "\n",
       "    .dataframe tbody tr th {\n",
       "        vertical-align: top;\n",
       "    }\n",
       "\n",
       "    .dataframe thead th {\n",
       "        text-align: right;\n",
       "    }\n",
       "</style>\n",
       "<table border=\"1\" class=\"dataframe\">\n",
       "  <thead>\n",
       "    <tr style=\"text-align: right;\">\n",
       "      <th></th>\n",
       "      <th>EmployeeID</th>\n",
       "      <th>Name</th>\n",
       "      <th>Department</th>\n",
       "      <th>Salary</th>\n",
       "    </tr>\n",
       "  </thead>\n",
       "  <tbody>\n",
       "    <tr>\n",
       "      <th>0</th>\n",
       "      <td>1</td>\n",
       "      <td>Alice</td>\n",
       "      <td>IT</td>\n",
       "      <td>70000</td>\n",
       "    </tr>\n",
       "    <tr>\n",
       "      <th>1</th>\n",
       "      <td>2</td>\n",
       "      <td>Bob</td>\n",
       "      <td>HR</td>\n",
       "      <td>60000</td>\n",
       "    </tr>\n",
       "    <tr>\n",
       "      <th>2</th>\n",
       "      <td>3</td>\n",
       "      <td>Charlie</td>\n",
       "      <td>Sales</td>\n",
       "      <td>50000</td>\n",
       "    </tr>\n",
       "    <tr>\n",
       "      <th>3</th>\n",
       "      <td>4</td>\n",
       "      <td>David</td>\n",
       "      <td>IT</td>\n",
       "      <td>75000</td>\n",
       "    </tr>\n",
       "    <tr>\n",
       "      <th>4</th>\n",
       "      <td>5</td>\n",
       "      <td>Eve</td>\n",
       "      <td>HR</td>\n",
       "      <td>65000</td>\n",
       "    </tr>\n",
       "    <tr>\n",
       "      <th>5</th>\n",
       "      <td>6</td>\n",
       "      <td>Frank</td>\n",
       "      <td>Sales</td>\n",
       "      <td>55000</td>\n",
       "    </tr>\n",
       "    <tr>\n",
       "      <th>6</th>\n",
       "      <td>7</td>\n",
       "      <td>Grace</td>\n",
       "      <td>IT</td>\n",
       "      <td>72000</td>\n",
       "    </tr>\n",
       "    <tr>\n",
       "      <th>7</th>\n",
       "      <td>8</td>\n",
       "      <td>Hannah</td>\n",
       "      <td>HR</td>\n",
       "      <td>68000</td>\n",
       "    </tr>\n",
       "    <tr>\n",
       "      <th>8</th>\n",
       "      <td>9</td>\n",
       "      <td>Ivy</td>\n",
       "      <td>Sales</td>\n",
       "      <td>53000</td>\n",
       "    </tr>\n",
       "    <tr>\n",
       "      <th>9</th>\n",
       "      <td>10</td>\n",
       "      <td>Jack</td>\n",
       "      <td>IT</td>\n",
       "      <td>76000</td>\n",
       "    </tr>\n",
       "  </tbody>\n",
       "</table>\n",
       "</div>"
      ],
      "text/plain": [
       "   EmployeeID     Name Department  Salary\n",
       "0           1    Alice         IT   70000\n",
       "1           2      Bob         HR   60000\n",
       "2           3  Charlie      Sales   50000\n",
       "3           4    David         IT   75000\n",
       "4           5      Eve         HR   65000\n",
       "5           6    Frank      Sales   55000\n",
       "6           7    Grace         IT   72000\n",
       "7           8   Hannah         HR   68000\n",
       "8           9      Ivy      Sales   53000\n",
       "9          10     Jack         IT   76000"
      ]
     },
     "execution_count": 3,
     "metadata": {},
     "output_type": "execute_result"
    }
   ],
   "source": [
    "import pandas as pd\n",
    "pd.read_csv(r\"C:/Users/sayed/Desktop/DDP/practice/dataset/employee_data.csv\")"
   ]
  },
  {
   "cell_type": "code",
   "execution_count": 4,
   "metadata": {},
   "outputs": [],
   "source": [
    "# Starting the  spark session \n",
    "\n",
    "from pyspark.sql import SparkSession\n",
    "\n",
    "spark = SparkSession.builder.appName(\"Practice2\").getOrCreate()\n",
    "\n"
   ]
  },
  {
   "cell_type": "code",
   "execution_count": 5,
   "metadata": {},
   "outputs": [
    {
     "data": {
      "text/html": [
       "\n",
       "            <div>\n",
       "                <p><b>SparkSession - in-memory</b></p>\n",
       "                \n",
       "        <div>\n",
       "            <p><b>SparkContext</b></p>\n",
       "\n",
       "            <p><a href=\"http://DESKTOP-6FSOKDO:4041\">Spark UI</a></p>\n",
       "\n",
       "            <dl>\n",
       "              <dt>Version</dt>\n",
       "                <dd><code>v3.5.4</code></dd>\n",
       "              <dt>Master</dt>\n",
       "                <dd><code>local[*]</code></dd>\n",
       "              <dt>AppName</dt>\n",
       "                <dd><code>Practice2</code></dd>\n",
       "            </dl>\n",
       "        </div>\n",
       "        \n",
       "            </div>\n",
       "        "
      ],
      "text/plain": [
       "<pyspark.sql.session.SparkSession at 0x256b96c8f50>"
      ]
     },
     "execution_count": 5,
     "metadata": {},
     "output_type": "execute_result"
    }
   ],
   "source": [
    "spark"
   ]
  },
  {
   "cell_type": "code",
   "execution_count": 6,
   "metadata": {},
   "outputs": [],
   "source": [
    "data_pyspark = spark.read.csv(\"C:/Users/sayed/Desktop/DDP/practice/dataset/employee_data.csv\")"
   ]
  },
  {
   "cell_type": "code",
   "execution_count": 7,
   "metadata": {},
   "outputs": [
    {
     "name": "stdout",
     "output_type": "stream",
     "text": [
      "+----------+-------+----------+------+\n",
      "|       _c0|    _c1|       _c2|   _c3|\n",
      "+----------+-------+----------+------+\n",
      "|EmployeeID|   Name|Department|Salary|\n",
      "|         1|  Alice|        IT| 70000|\n",
      "|         2|    Bob|        HR| 60000|\n",
      "|         3|Charlie|     Sales| 50000|\n",
      "|         4|  David|        IT| 75000|\n",
      "|         5|    Eve|        HR| 65000|\n",
      "|         6|  Frank|     Sales| 55000|\n",
      "|         7|  Grace|        IT| 72000|\n",
      "|         8| Hannah|        HR| 68000|\n",
      "|         9|    Ivy|     Sales| 53000|\n",
      "|        10|   Jack|        IT| 76000|\n",
      "+----------+-------+----------+------+\n",
      "\n"
     ]
    }
   ],
   "source": [
    "data_pyspark.show()  "
   ]
  },
  {
   "cell_type": "code",
   "execution_count": 8,
   "metadata": {},
   "outputs": [],
   "source": [
    "data_pyspark = spark.read.csv(\"C:/Users/sayed/Desktop/DDP/practice/dataset/employee_data.csv\",header=True)\n",
    "#Header = true\" typically means the first row of the file should be interpreted as the column names"
   ]
  },
  {
   "cell_type": "code",
   "execution_count": 9,
   "metadata": {},
   "outputs": [
    {
     "name": "stdout",
     "output_type": "stream",
     "text": [
      "+----------+-------+----------+------+\n",
      "|EmployeeID|   Name|Department|Salary|\n",
      "+----------+-------+----------+------+\n",
      "|         1|  Alice|        IT| 70000|\n",
      "|         2|    Bob|        HR| 60000|\n",
      "|         3|Charlie|     Sales| 50000|\n",
      "|         4|  David|        IT| 75000|\n",
      "|         5|    Eve|        HR| 65000|\n",
      "|         6|  Frank|     Sales| 55000|\n",
      "|         7|  Grace|        IT| 72000|\n",
      "|         8| Hannah|        HR| 68000|\n",
      "|         9|    Ivy|     Sales| 53000|\n",
      "|        10|   Jack|        IT| 76000|\n",
      "+----------+-------+----------+------+\n",
      "\n"
     ]
    }
   ],
   "source": [
    "data_pyspark.show()"
   ]
  },
  {
   "cell_type": "code",
   "execution_count": 10,
   "metadata": {},
   "outputs": [
    {
     "data": {
      "text/plain": [
       "pyspark.sql.dataframe.DataFrame"
      ]
     },
     "execution_count": 10,
     "metadata": {},
     "output_type": "execute_result"
    }
   ],
   "source": [
    "type(data_pyspark)"
   ]
  },
  {
   "cell_type": "code",
   "execution_count": 11,
   "metadata": {},
   "outputs": [
    {
     "data": {
      "text/plain": [
       "[Row(EmployeeID='1', Name='Alice', Department='IT', Salary='70000'),\n",
       " Row(EmployeeID='2', Name='Bob', Department='HR', Salary='60000')]"
      ]
     },
     "execution_count": 11,
     "metadata": {},
     "output_type": "execute_result"
    }
   ],
   "source": [
    "data_pyspark.head(2) # Unlike pandas when we use head in pyspark we get the result in list format where as in pandas in dataframe format "
   ]
  },
  {
   "cell_type": "code",
   "execution_count": 12,
   "metadata": {},
   "outputs": [
    {
     "name": "stdout",
     "output_type": "stream",
     "text": [
      "root\n",
      " |-- EmployeeID: string (nullable = true)\n",
      " |-- Name: string (nullable = true)\n",
      " |-- Department: string (nullable = true)\n",
      " |-- Salary: string (nullable = true)\n",
      "\n"
     ]
    }
   ],
   "source": [
    "data_pyspark.printSchema()  # To check the datatype of the column we use printschema "
   ]
  },
  {
   "cell_type": "code",
   "execution_count": 13,
   "metadata": {},
   "outputs": [
    {
     "data": {
      "text/plain": [
       "pyspark.sql.dataframe.DataFrame"
      ]
     },
     "execution_count": 13,
     "metadata": {},
     "output_type": "execute_result"
    }
   ],
   "source": [
    "type(data_pyspark)"
   ]
  },
  {
   "cell_type": "code",
   "execution_count": 14,
   "metadata": {},
   "outputs": [
    {
     "data": {
      "text/plain": [
       "['EmployeeID', 'Name', 'Department', 'Salary']"
      ]
     },
     "execution_count": 14,
     "metadata": {},
     "output_type": "execute_result"
    }
   ],
   "source": [
    "data_pyspark.columns"
   ]
  },
  {
   "cell_type": "code",
   "execution_count": 15,
   "metadata": {},
   "outputs": [
    {
     "data": {
      "text/plain": [
       "pyspark.sql.dataframe.DataFrame"
      ]
     },
     "execution_count": 15,
     "metadata": {},
     "output_type": "execute_result"
    }
   ],
   "source": [
    "type(data_pyspark.select(\"Name\"))"
   ]
  },
  {
   "cell_type": "code",
   "execution_count": 16,
   "metadata": {},
   "outputs": [
    {
     "data": {
      "text/plain": [
       "[('EmployeeID', 'string'),\n",
       " ('Name', 'string'),\n",
       " ('Department', 'string'),\n",
       " ('Salary', 'string')]"
      ]
     },
     "execution_count": 16,
     "metadata": {},
     "output_type": "execute_result"
    }
   ],
   "source": [
    "data_pyspark.dtypes"
   ]
  },
  {
   "cell_type": "code",
   "execution_count": 17,
   "metadata": {},
   "outputs": [
    {
     "name": "stdout",
     "output_type": "stream",
     "text": [
      "+-------+------------------+-----+----------+-----------------+\n",
      "|summary|        EmployeeID| Name|Department|           Salary|\n",
      "+-------+------------------+-----+----------+-----------------+\n",
      "|  count|                10|   10|        10|               10|\n",
      "|   mean|               5.5| NULL|      NULL|          64400.0|\n",
      "| stddev|3.0276503540974917| NULL|      NULL|9395.034149308169|\n",
      "|    min|                 1|Alice|        HR|            50000|\n",
      "|    max|                 9| Jack|     Sales|            76000|\n",
      "+-------+------------------+-----+----------+-----------------+\n",
      "\n"
     ]
    }
   ],
   "source": [
    "data_pyspark.describe().show()"
   ]
  },
  {
   "cell_type": "code",
   "execution_count": 18,
   "metadata": {},
   "outputs": [],
   "source": [
    "future_sal = data_pyspark.withColumn(\"Salary after 2 years\",data_pyspark['Salary']*2)"
   ]
  },
  {
   "cell_type": "code",
   "execution_count": 19,
   "metadata": {},
   "outputs": [
    {
     "name": "stdout",
     "output_type": "stream",
     "text": [
      "+----------+-------+----------+------+--------------------+\n",
      "|EmployeeID|   Name|Department|Salary|Salary after 2 years|\n",
      "+----------+-------+----------+------+--------------------+\n",
      "|         1|  Alice|        IT| 70000|            140000.0|\n",
      "|         2|    Bob|        HR| 60000|            120000.0|\n",
      "|         3|Charlie|     Sales| 50000|            100000.0|\n",
      "|         4|  David|        IT| 75000|            150000.0|\n",
      "|         5|    Eve|        HR| 65000|            130000.0|\n",
      "|         6|  Frank|     Sales| 55000|            110000.0|\n",
      "|         7|  Grace|        IT| 72000|            144000.0|\n",
      "|         8| Hannah|        HR| 68000|            136000.0|\n",
      "|         9|    Ivy|     Sales| 53000|            106000.0|\n",
      "|        10|   Jack|        IT| 76000|            152000.0|\n",
      "+----------+-------+----------+------+--------------------+\n",
      "\n"
     ]
    }
   ],
   "source": [
    "future_sal.show()"
   ]
  },
  {
   "cell_type": "code",
   "execution_count": 20,
   "metadata": {},
   "outputs": [
    {
     "name": "stdout",
     "output_type": "stream",
     "text": [
      "+----------+-------+----------+--------------+--------------------+\n",
      "|EmployeeID|   Name|Department|Current-Salary|Salary after 2 years|\n",
      "+----------+-------+----------+--------------+--------------------+\n",
      "|         1|  Alice|        IT|         70000|            140000.0|\n",
      "|         2|    Bob|        HR|         60000|            120000.0|\n",
      "|         3|Charlie|     Sales|         50000|            100000.0|\n",
      "|         4|  David|        IT|         75000|            150000.0|\n",
      "|         5|    Eve|        HR|         65000|            130000.0|\n",
      "|         6|  Frank|     Sales|         55000|            110000.0|\n",
      "|         7|  Grace|        IT|         72000|            144000.0|\n",
      "|         8| Hannah|        HR|         68000|            136000.0|\n",
      "|         9|    Ivy|     Sales|         53000|            106000.0|\n",
      "|        10|   Jack|        IT|         76000|            152000.0|\n",
      "+----------+-------+----------+--------------+--------------------+\n",
      "\n"
     ]
    }
   ],
   "source": [
    "future_sal.withColumnRenamed(\"Salary\",\"Current-Salary\").show()"
   ]
  },
  {
   "cell_type": "code",
   "execution_count": 21,
   "metadata": {},
   "outputs": [],
   "source": [
    "updated_sal = future_sal.withColumnRenamed(\"Salary\",\"Current-Salary\")"
   ]
  },
  {
   "cell_type": "code",
   "execution_count": 22,
   "metadata": {},
   "outputs": [
    {
     "name": "stdout",
     "output_type": "stream",
     "text": [
      "+----------+-------+----------+--------------+--------------------+\n",
      "|EmployeeID|   Name|Department|Current-Salary|Salary after 2 years|\n",
      "+----------+-------+----------+--------------+--------------------+\n",
      "|         1|  Alice|        IT|         70000|            140000.0|\n",
      "|         2|    Bob|        HR|         60000|            120000.0|\n",
      "|         3|Charlie|     Sales|         50000|            100000.0|\n",
      "|         4|  David|        IT|         75000|            150000.0|\n",
      "|         5|    Eve|        HR|         65000|            130000.0|\n",
      "|         6|  Frank|     Sales|         55000|            110000.0|\n",
      "|         7|  Grace|        IT|         72000|            144000.0|\n",
      "|         8| Hannah|        HR|         68000|            136000.0|\n",
      "|         9|    Ivy|     Sales|         53000|            106000.0|\n",
      "|        10|   Jack|        IT|         76000|            152000.0|\n",
      "+----------+-------+----------+--------------+--------------------+\n",
      "\n"
     ]
    }
   ],
   "source": [
    "updated_sal.show()"
   ]
  },
  {
   "cell_type": "code",
   "execution_count": 23,
   "metadata": {},
   "outputs": [],
   "source": [
    "df_drop = data_pyspark.drop('Name')"
   ]
  },
  {
   "cell_type": "code",
   "execution_count": 24,
   "metadata": {},
   "outputs": [
    {
     "name": "stdout",
     "output_type": "stream",
     "text": [
      "+----------+----------+------+\n",
      "|EmployeeID|Department|Salary|\n",
      "+----------+----------+------+\n",
      "|         1|        IT| 70000|\n",
      "|         2|        HR| 60000|\n",
      "|         3|     Sales| 50000|\n",
      "|         4|        IT| 75000|\n",
      "|         5|        HR| 65000|\n",
      "|         6|     Sales| 55000|\n",
      "|         7|        IT| 72000|\n",
      "|         8|        HR| 68000|\n",
      "|         9|     Sales| 53000|\n",
      "|        10|        IT| 76000|\n",
      "+----------+----------+------+\n",
      "\n"
     ]
    }
   ],
   "source": [
    "df_drop.show()"
   ]
  },
  {
   "cell_type": "code",
   "execution_count": 25,
   "metadata": {},
   "outputs": [
    {
     "name": "stdout",
     "output_type": "stream",
     "text": [
      "+----------+-------+----------+------+\n",
      "|EmployeeID|   Name|Department|Salary|\n",
      "+----------+-------+----------+------+\n",
      "|         1|  Alice|        IT| 70000|\n",
      "|         2|    Bob|        HR| 60000|\n",
      "|         3|Charlie|     Sales| 50000|\n",
      "|         4|  David|        IT| 75000|\n",
      "|         5|    Eve|        HR| 65000|\n",
      "|         6|  Frank|     Sales| 55000|\n",
      "|         7|  Grace|        IT| 72000|\n",
      "|         8| Hannah|        HR| 68000|\n",
      "|         9|    Ivy|     Sales| 53000|\n",
      "|        10|   Jack|        IT| 76000|\n",
      "+----------+-------+----------+------+\n",
      "\n"
     ]
    }
   ],
   "source": [
    "data_pyspark.show()"
   ]
  },
  {
   "cell_type": "code",
   "execution_count": 26,
   "metadata": {},
   "outputs": [
    {
     "name": "stdout",
     "output_type": "stream",
     "text": [
      "+----------+------+----------+------+\n",
      "|EmployeeID|  Name|Department|Salary|\n",
      "+----------+------+----------+------+\n",
      "|         1| Alice|        IT| 70000|\n",
      "|         2|   Bob|        HR| 60000|\n",
      "|         4| David|        IT| 75000|\n",
      "|         5|   Eve|        HR| 65000|\n",
      "|         7| Grace|        IT| 72000|\n",
      "|         8|Hannah|        HR| 68000|\n",
      "|        10|  Jack|        IT| 76000|\n",
      "+----------+------+----------+------+\n",
      "\n"
     ]
    }
   ],
   "source": [
    "# Salary of people greater than 60,000\n",
    "data_pyspark.filter(\"Salary>=60000\").show()"
   ]
  },
  {
   "cell_type": "code",
   "execution_count": 27,
   "metadata": {},
   "outputs": [
    {
     "name": "stdout",
     "output_type": "stream",
     "text": [
      "+----------+-------+----------+------+\n",
      "|EmployeeID|   Name|Department|Salary|\n",
      "+----------+-------+----------+------+\n",
      "|         1|  Alice|        IT| 70000|\n",
      "|         3|Charlie|     Sales| 50000|\n",
      "|         5|    Eve|        HR| 65000|\n",
      "|         7|  Grace|        IT| 72000|\n",
      "|         9|    Ivy|     Sales| 53000|\n",
      "+----------+-------+----------+------+\n",
      "\n"
     ]
    }
   ],
   "source": [
    "data_pyspark.filter(\"EmployeeID %2 != 0\").show()   # Employee with Odd EmployeeID  "
   ]
  },
  {
   "cell_type": "code",
   "execution_count": 28,
   "metadata": {},
   "outputs": [
    {
     "name": "stdout",
     "output_type": "stream",
     "text": [
      "+----------+------+----------+------+\n",
      "|EmployeeID|  Name|Department|Salary|\n",
      "+----------+------+----------+------+\n",
      "|         2|   Bob|        HR| 60000|\n",
      "|         4| David|        IT| 75000|\n",
      "|         6| Frank|     Sales| 55000|\n",
      "|         8|Hannah|        HR| 68000|\n",
      "|        10|  Jack|        IT| 76000|\n",
      "+----------+------+----------+------+\n",
      "\n"
     ]
    }
   ],
   "source": [
    "data_pyspark.filter(\"EmployeeID %2 ==0 \").show()  # Employees with even EmployeeID"
   ]
  },
  {
   "cell_type": "code",
   "execution_count": 29,
   "metadata": {},
   "outputs": [
    {
     "name": "stdout",
     "output_type": "stream",
     "text": [
      "+------+----------+\n",
      "|  Name|Department|\n",
      "+------+----------+\n",
      "|   Bob|        HR|\n",
      "| David|        IT|\n",
      "| Frank|     Sales|\n",
      "|Hannah|        HR|\n",
      "|  Jack|        IT|\n",
      "+------+----------+\n",
      "\n"
     ]
    }
   ],
   "source": [
    "data_pyspark.filter(\"EmployeeId %2 == 0 \").select(['Name','Department']).show() # Employees with even EmployeeID their (name and deparment)"
   ]
  },
  {
   "cell_type": "code",
   "execution_count": 30,
   "metadata": {},
   "outputs": [
    {
     "name": "stdout",
     "output_type": "stream",
     "text": [
      "+----------+------+----------+------+\n",
      "|EmployeeID|  Name|Department|Salary|\n",
      "+----------+------+----------+------+\n",
      "|         2|   Bob|        HR| 60000|\n",
      "|         8|Hannah|        HR| 68000|\n",
      "+----------+------+----------+------+\n",
      "\n"
     ]
    }
   ],
   "source": [
    "data_pyspark.filter((data_pyspark.EmployeeID % 2 == 0) & (data_pyspark.Department == 'HR')).show()\n"
   ]
  },
  {
   "cell_type": "code",
   "execution_count": 31,
   "metadata": {},
   "outputs": [
    {
     "data": {
      "text/plain": [
       "DataFrame[EmployeeID: string, Name: string, Department: string, Salary: string]"
      ]
     },
     "execution_count": 31,
     "metadata": {},
     "output_type": "execute_result"
    }
   ],
   "source": [
    "data_pyspark.distinct()"
   ]
  },
  {
   "cell_type": "code",
   "execution_count": null,
   "metadata": {},
   "outputs": [
    {
     "name": "stdout",
     "output_type": "stream",
     "text": [
      "+----------+-------+----------+------+\n",
      "|EmployeeID|   Name|Department|Salary|\n",
      "+----------+-------+----------+------+\n",
      "|         8| Hannah|        HR| 68000|\n",
      "|         2|    Bob|        HR| 60000|\n",
      "|        10|   Jack|        IT| 76000|\n",
      "|         5|    Eve|        HR| 65000|\n",
      "|         9|    Ivy|     Sales| 53000|\n",
      "|         6|  Frank|     Sales| 55000|\n",
      "|         1|  Alice|        IT| 70000|\n",
      "|         4|  David|        IT| 75000|\n",
      "|         7|  Grace|        IT| 72000|\n",
      "|         3|Charlie|     Sales| 50000|\n",
      "+----------+-------+----------+------+\n",
      "\n"
     ]
    }
   ],
   "source": [
    "data_pyspark.distinct().show()\n"
   ]
  },
  {
   "cell_type": "code",
   "execution_count": null,
   "metadata": {},
   "outputs": [],
   "source": []
  },
  {
   "cell_type": "code",
   "execution_count": null,
   "metadata": {},
   "outputs": [],
   "source": []
  }
 ],
 "metadata": {
  "kernelspec": {
   "display_name": "Python 3",
   "language": "python",
   "name": "python3"
  },
  "language_info": {
   "codemirror_mode": {
    "name": "ipython",
    "version": 3
   },
   "file_extension": ".py",
   "mimetype": "text/x-python",
   "name": "python",
   "nbconvert_exporter": "python",
   "pygments_lexer": "ipython3",
   "version": "3.11.3"
  }
 },
 "nbformat": 4,
 "nbformat_minor": 2
}
