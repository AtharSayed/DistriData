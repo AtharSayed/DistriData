{
 "cells": [
  {
   "cell_type": "code",
   "execution_count": 1,
   "metadata": {},
   "outputs": [
    {
     "name": "stdout",
     "output_type": "stream",
     "text": [
      "Spark Version: 3.5.4\n"
     ]
    }
   ],
   "source": [
    "from pyspark.sql import SparkSession\n",
    "\n",
    "spark = SparkSession.builder \\\n",
    "         .appName(\"sparkpractice\") \\\n",
    "         .master(\"local[1]\") \\\n",
    "         .config(\"spark.executor.memory\", \"2g\") \\\n",
    "         .config(\"spark.driver.memory\", \"2g\") \\\n",
    "         .getOrCreate()\n",
    "\n",
    "print(f\"Spark Version: {spark.version}\")\n"
   ]
  },
  {
   "cell_type": "code",
   "execution_count": 2,
   "metadata": {},
   "outputs": [
    {
     "data": {
      "text/html": [
       "\n",
       "            <div>\n",
       "                <p><b>SparkSession - in-memory</b></p>\n",
       "                \n",
       "        <div>\n",
       "            <p><b>SparkContext</b></p>\n",
       "\n",
       "            <p><a href=\"http://DESKTOP-6FSOKDO:4040\">Spark UI</a></p>\n",
       "\n",
       "            <dl>\n",
       "              <dt>Version</dt>\n",
       "                <dd><code>v3.5.4</code></dd>\n",
       "              <dt>Master</dt>\n",
       "                <dd><code>local[1]</code></dd>\n",
       "              <dt>AppName</dt>\n",
       "                <dd><code>sparkpractice</code></dd>\n",
       "            </dl>\n",
       "        </div>\n",
       "        \n",
       "            </div>\n",
       "        "
      ],
      "text/plain": [
       "<pyspark.sql.session.SparkSession at 0x1d399b55f50>"
      ]
     },
     "execution_count": 2,
     "metadata": {},
     "output_type": "execute_result"
    }
   ],
   "source": [
    "spark"
   ]
  },
  {
   "cell_type": "code",
   "execution_count": 5,
   "metadata": {},
   "outputs": [],
   "source": [
    "wine_df = spark.read.csv(r\"C:\\Users\\sayed\\Desktop\\DDP\\practice\\dataset\\WineQT.csv\",header = True, inferSchema = True)"
   ]
  },
  {
   "cell_type": "code",
   "execution_count": 6,
   "metadata": {},
   "outputs": [
    {
     "name": "stdout",
     "output_type": "stream",
     "text": [
      "+-------------+----------------+-----------+--------------+---------+-------------------+--------------------+-------+----+---------+-------+-------+---+\n",
      "|fixed acidity|volatile acidity|citric acid|residual sugar|chlorides|free sulfur dioxide|total sulfur dioxide|density|  pH|sulphates|alcohol|quality| Id|\n",
      "+-------------+----------------+-----------+--------------+---------+-------------------+--------------------+-------+----+---------+-------+-------+---+\n",
      "|          7.4|             0.7|        0.0|           1.9|    0.076|               11.0|                34.0| 0.9978|3.51|     0.56|    9.4|      5|  0|\n",
      "|          7.8|            0.88|        0.0|           2.6|    0.098|               25.0|                67.0| 0.9968| 3.2|     0.68|    9.8|      5|  1|\n",
      "|          7.8|            0.76|       0.04|           2.3|    0.092|               15.0|                54.0|  0.997|3.26|     0.65|    9.8|      5|  2|\n",
      "|         11.2|            0.28|       0.56|           1.9|    0.075|               17.0|                60.0|  0.998|3.16|     0.58|    9.8|      6|  3|\n",
      "|          7.4|             0.7|        0.0|           1.9|    0.076|               11.0|                34.0| 0.9978|3.51|     0.56|    9.4|      5|  4|\n",
      "+-------------+----------------+-----------+--------------+---------+-------------------+--------------------+-------+----+---------+-------+-------+---+\n",
      "only showing top 5 rows\n",
      "\n"
     ]
    }
   ],
   "source": [
    "wine_df.show(5)"
   ]
  },
  {
   "cell_type": "code",
   "execution_count": 7,
   "metadata": {},
   "outputs": [
    {
     "name": "stdout",
     "output_type": "stream",
     "text": [
      "root\n",
      " |-- fixed acidity: double (nullable = true)\n",
      " |-- volatile acidity: double (nullable = true)\n",
      " |-- citric acid: double (nullable = true)\n",
      " |-- residual sugar: double (nullable = true)\n",
      " |-- chlorides: double (nullable = true)\n",
      " |-- free sulfur dioxide: double (nullable = true)\n",
      " |-- total sulfur dioxide: double (nullable = true)\n",
      " |-- density: double (nullable = true)\n",
      " |-- pH: double (nullable = true)\n",
      " |-- sulphates: double (nullable = true)\n",
      " |-- alcohol: double (nullable = true)\n",
      " |-- quality: integer (nullable = true)\n",
      " |-- Id: integer (nullable = true)\n",
      "\n"
     ]
    }
   ],
   "source": [
    "wine_df.printSchema()"
   ]
  },
  {
   "cell_type": "code",
   "execution_count": 8,
   "metadata": {},
   "outputs": [
    {
     "data": {
      "text/plain": [
       "1143"
      ]
     },
     "execution_count": 8,
     "metadata": {},
     "output_type": "execute_result"
    }
   ],
   "source": [
    "wine_df.count()"
   ]
  },
  {
   "cell_type": "code",
   "execution_count": 9,
   "metadata": {},
   "outputs": [
    {
     "name": "stdout",
     "output_type": "stream",
     "text": [
      "+-------------+----------------+-----------+--------------+--------------------+-------------------+--------------------+------------------+----+---------+-------+-------+----+\n",
      "|fixed acidity|volatile acidity|citric acid|residual sugar|           chlorides|free sulfur dioxide|total sulfur dioxide|           density|  pH|sulphates|alcohol|quality|  Id|\n",
      "+-------------+----------------+-----------+--------------+--------------------+-------------------+--------------------+------------------+----+---------+-------+-------+----+\n",
      "|          7.9|            0.35|       0.46|           3.6|               0.078|               15.0|                37.0|            0.9973|3.35|     0.86|   12.8|      8| 267|\n",
      "|         10.3|            0.32|       0.45|           6.4|               0.073|                5.0|                13.0|            0.9976|3.23|     0.82|   12.6|      8| 278|\n",
      "|          5.6|            0.85|       0.05|           1.4|               0.045|               12.0|                88.0|            0.9924|3.56|     0.82|   12.9|      8| 390|\n",
      "|         12.6|            0.31|       0.72|           2.2| 0.07200000000000001|                6.0|                29.0|            0.9987|2.88|     0.82|    9.8|      8| 440|\n",
      "|         11.3|            0.62|       0.67|           5.2|               0.086|                6.0|                19.0|            0.9988|3.22|     0.69|   13.4|      8| 455|\n",
      "|          9.4|             0.3|       0.56|           2.8|                0.08|                6.0|                17.0|            0.9964|3.15|     0.92|   11.7|      8| 481|\n",
      "|         10.7|            0.35|       0.53|           2.6|                0.07|                5.0|                16.0|            0.9972|3.15|     0.65|   11.0|      8| 495|\n",
      "|         10.7|            0.35|       0.53|           2.6|                0.07|                5.0|                16.0|            0.9972|3.15|     0.65|   11.0|      8| 498|\n",
      "|          5.0|            0.42|       0.24|           2.0|                0.06|               19.0|                50.0|            0.9917|3.72|     0.74|   14.0|      8| 588|\n",
      "|          9.1|             0.4|        0.5|           1.8|               0.071|                7.0|                16.0|0.9946200000000001|3.21|     0.69|   12.5|      8|1061|\n",
      "|         10.0|            0.26|       0.54|           1.9|               0.083|               42.0|                74.0|           0.99451|2.98|     0.63|   11.8|      8|1090|\n",
      "|          7.9|            0.54|       0.34|           2.5|               0.076|                8.0|                17.0|           0.99235| 3.2|     0.72|   13.1|      8|1120|\n",
      "|          8.6|            0.42|       0.39|           1.8|               0.068|                6.0|                12.0|           0.99516|3.35|     0.69|   11.7|      8|1202|\n",
      "|          7.2|            0.33|       0.33|           1.7|               0.061|                3.0|                13.0|             0.996|3.23|      1.1|   10.0|      8|1403|\n",
      "|          7.2|            0.38|       0.31|           2.0|0.055999999999999994|               15.0|                29.0|           0.99472|3.23|     0.76|   11.3|      8|1449|\n",
      "|          7.4|            0.36|        0.3|           1.8| 0.07400000000000001|               17.0|                24.0|           0.99419|3.24|      0.7|   11.4|      8|1549|\n",
      "+-------------+----------------+-----------+--------------+--------------------+-------------------+--------------------+------------------+----+---------+-------+-------+----+\n",
      "\n"
     ]
    }
   ],
   "source": [
    "wine_df.filter(wine_df[\"quality\"]>7).show()"
   ]
  },
  {
   "cell_type": "code",
   "execution_count": 10,
   "metadata": {},
   "outputs": [
    {
     "name": "stdout",
     "output_type": "stream",
     "text": [
      "+-----------------+\n",
      "|     avg(alcohol)|\n",
      "+-----------------+\n",
      "|10.44211140274131|\n",
      "+-----------------+\n",
      "\n"
     ]
    }
   ],
   "source": [
    "wine_df.agg({\"alcohol\":\"mean\"}).show()   # Getting the aggregate "
   ]
  },
  {
   "cell_type": "code",
   "execution_count": null,
   "metadata": {},
   "outputs": [],
   "source": []
  }
 ],
 "metadata": {
  "kernelspec": {
   "display_name": "Python 3",
   "language": "python",
   "name": "python3"
  },
  "language_info": {
   "codemirror_mode": {
    "name": "ipython",
    "version": 3
   },
   "file_extension": ".py",
   "mimetype": "text/x-python",
   "name": "python",
   "nbconvert_exporter": "python",
   "pygments_lexer": "ipython3",
   "version": "3.11.3"
  }
 },
 "nbformat": 4,
 "nbformat_minor": 2
}
