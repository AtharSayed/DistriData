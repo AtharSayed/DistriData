{
 "cells": [
  {
   "cell_type": "code",
   "execution_count": null,
   "metadata": {},
   "outputs": [],
   "source": [
    "from pyspark.sql import SparkSession\n",
    "\n",
    "spark = SparkSession.builder \\\n",
    "         .appName(\"sparkpractice\") \\\n",
    "         .master(\"local[1]\") \\\n",
    "         .config(\"spark.executor.memory\", \"2g\") \\\n",
    "         .config(\"spark.driver.memory\", \"2g\") \\\n",
    "         .getOrCreate()\n",
    "\n",
    "print(f\"Spark Version: {spark.version}\")\n"
   ]
  }
 ],
 "metadata": {
  "kernelspec": {
   "display_name": "Python 3",
   "language": "python",
   "name": "python3"
  },
  "language_info": {
   "codemirror_mode": {
    "name": "ipython",
    "version": 3
   },
   "file_extension": ".py",
   "mimetype": "text/x-python",
   "name": "python",
   "nbconvert_exporter": "python",
   "pygments_lexer": "ipython3",
   "version": "3.11.3"
  }
 },
 "nbformat": 4,
 "nbformat_minor": 2
}
