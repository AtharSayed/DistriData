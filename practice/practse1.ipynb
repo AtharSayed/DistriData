{
 "cells": [
  {
   "cell_type": "code",
   "execution_count": 1,
   "metadata": {},
   "outputs": [
    {
     "name": "stdout",
     "output_type": "stream",
     "text": [
      "Spark Version: 3.5.4\n"
     ]
    }
   ],
   "source": [
    "from pyspark.sql import SparkSession\n",
    "\n",
    "spark = SparkSession.builder \\\n",
    "         .appName(\"sparkpractice\") \\\n",
    "         .master(\"local[1]\") \\\n",
    "         .config(\"spark.executor.memory\", \"2g\") \\\n",
    "         .config(\"spark.driver.memory\", \"2g\") \\\n",
    "         .getOrCreate()\n",
    "\n",
    "print(f\"Spark Version: {spark.version}\")\n"
   ]
  },
  {
   "cell_type": "code",
   "execution_count": 2,
   "metadata": {},
   "outputs": [
    {
     "data": {
      "text/html": [
       "\n",
       "            <div>\n",
       "                <p><b>SparkSession - in-memory</b></p>\n",
       "                \n",
       "        <div>\n",
       "            <p><b>SparkContext</b></p>\n",
       "\n",
       "            <p><a href=\"http://DESKTOP-6FSOKDO:4040\">Spark UI</a></p>\n",
       "\n",
       "            <dl>\n",
       "              <dt>Version</dt>\n",
       "                <dd><code>v3.5.4</code></dd>\n",
       "              <dt>Master</dt>\n",
       "                <dd><code>local[1]</code></dd>\n",
       "              <dt>AppName</dt>\n",
       "                <dd><code>sparkpractice</code></dd>\n",
       "            </dl>\n",
       "        </div>\n",
       "        \n",
       "            </div>\n",
       "        "
      ],
      "text/plain": [
       "<pyspark.sql.session.SparkSession at 0x1d399b55f50>"
      ]
     },
     "execution_count": 2,
     "metadata": {},
     "output_type": "execute_result"
    }
   ],
   "source": [
    "spark"
   ]
  },
  {
   "cell_type": "code",
   "execution_count": 5,
   "metadata": {},
   "outputs": [],
   "source": [
    "wine_df = spark.read.csv(r\"C:\\Users\\sayed\\Desktop\\DDP\\practice\\dataset\\WineQT.csv\",header = True, inferSchema = True)"
   ]
  },
  {
   "cell_type": "code",
   "execution_count": 6,
   "metadata": {},
   "outputs": [
    {
     "name": "stdout",
     "output_type": "stream",
     "text": [
      "+-------------+----------------+-----------+--------------+---------+-------------------+--------------------+-------+----+---------+-------+-------+---+\n",
      "|fixed acidity|volatile acidity|citric acid|residual sugar|chlorides|free sulfur dioxide|total sulfur dioxide|density|  pH|sulphates|alcohol|quality| Id|\n",
      "+-------------+----------------+-----------+--------------+---------+-------------------+--------------------+-------+----+---------+-------+-------+---+\n",
      "|          7.4|             0.7|        0.0|           1.9|    0.076|               11.0|                34.0| 0.9978|3.51|     0.56|    9.4|      5|  0|\n",
      "|          7.8|            0.88|        0.0|           2.6|    0.098|               25.0|                67.0| 0.9968| 3.2|     0.68|    9.8|      5|  1|\n",
      "|          7.8|            0.76|       0.04|           2.3|    0.092|               15.0|                54.0|  0.997|3.26|     0.65|    9.8|      5|  2|\n",
      "|         11.2|            0.28|       0.56|           1.9|    0.075|               17.0|                60.0|  0.998|3.16|     0.58|    9.8|      6|  3|\n",
      "|          7.4|             0.7|        0.0|           1.9|    0.076|               11.0|                34.0| 0.9978|3.51|     0.56|    9.4|      5|  4|\n",
      "+-------------+----------------+-----------+--------------+---------+-------------------+--------------------+-------+----+---------+-------+-------+---+\n",
      "only showing top 5 rows\n",
      "\n"
     ]
    }
   ],
   "source": [
    "wine_df.show(5)"
   ]
  },
  {
   "cell_type": "code",
   "execution_count": 7,
   "metadata": {},
   "outputs": [
    {
     "name": "stdout",
     "output_type": "stream",
     "text": [
      "root\n",
      " |-- fixed acidity: double (nullable = true)\n",
      " |-- volatile acidity: double (nullable = true)\n",
      " |-- citric acid: double (nullable = true)\n",
      " |-- residual sugar: double (nullable = true)\n",
      " |-- chlorides: double (nullable = true)\n",
      " |-- free sulfur dioxide: double (nullable = true)\n",
      " |-- total sulfur dioxide: double (nullable = true)\n",
      " |-- density: double (nullable = true)\n",
      " |-- pH: double (nullable = true)\n",
      " |-- sulphates: double (nullable = true)\n",
      " |-- alcohol: double (nullable = true)\n",
      " |-- quality: integer (nullable = true)\n",
      " |-- Id: integer (nullable = true)\n",
      "\n"
     ]
    }
   ],
   "source": [
    "wine_df.printSchema()"
   ]
  },
  {
   "cell_type": "code",
   "execution_count": 8,
   "metadata": {},
   "outputs": [
    {
     "data": {
      "text/plain": [
       "1143"
      ]
     },
     "execution_count": 8,
     "metadata": {},
     "output_type": "execute_result"
    }
   ],
   "source": [
    "wine_df.count()"
   ]
  },
  {
   "cell_type": "code",
   "execution_count": 9,
   "metadata": {},
   "outputs": [
    {
     "name": "stdout",
     "output_type": "stream",
     "text": [
      "+-------------+----------------+-----------+--------------+--------------------+-------------------+--------------------+------------------+----+---------+-------+-------+----+\n",
      "|fixed acidity|volatile acidity|citric acid|residual sugar|           chlorides|free sulfur dioxide|total sulfur dioxide|           density|  pH|sulphates|alcohol|quality|  Id|\n",
      "+-------------+----------------+-----------+--------------+--------------------+-------------------+--------------------+------------------+----+---------+-------+-------+----+\n",
      "|          7.9|            0.35|       0.46|           3.6|               0.078|               15.0|                37.0|            0.9973|3.35|     0.86|   12.8|      8| 267|\n",
      "|         10.3|            0.32|       0.45|           6.4|               0.073|                5.0|                13.0|            0.9976|3.23|     0.82|   12.6|      8| 278|\n",
      "|          5.6|            0.85|       0.05|           1.4|               0.045|               12.0|                88.0|            0.9924|3.56|     0.82|   12.9|      8| 390|\n",
      "|         12.6|            0.31|       0.72|           2.2| 0.07200000000000001|                6.0|                29.0|            0.9987|2.88|     0.82|    9.8|      8| 440|\n",
      "|         11.3|            0.62|       0.67|           5.2|               0.086|                6.0|                19.0|            0.9988|3.22|     0.69|   13.4|      8| 455|\n",
      "|          9.4|             0.3|       0.56|           2.8|                0.08|                6.0|                17.0|            0.9964|3.15|     0.92|   11.7|      8| 481|\n",
      "|         10.7|            0.35|       0.53|           2.6|                0.07|                5.0|                16.0|            0.9972|3.15|     0.65|   11.0|      8| 495|\n",
      "|         10.7|            0.35|       0.53|           2.6|                0.07|                5.0|                16.0|            0.9972|3.15|     0.65|   11.0|      8| 498|\n",
      "|          5.0|            0.42|       0.24|           2.0|                0.06|               19.0|                50.0|            0.9917|3.72|     0.74|   14.0|      8| 588|\n",
      "|          9.1|             0.4|        0.5|           1.8|               0.071|                7.0|                16.0|0.9946200000000001|3.21|     0.69|   12.5|      8|1061|\n",
      "|         10.0|            0.26|       0.54|           1.9|               0.083|               42.0|                74.0|           0.99451|2.98|     0.63|   11.8|      8|1090|\n",
      "|          7.9|            0.54|       0.34|           2.5|               0.076|                8.0|                17.0|           0.99235| 3.2|     0.72|   13.1|      8|1120|\n",
      "|          8.6|            0.42|       0.39|           1.8|               0.068|                6.0|                12.0|           0.99516|3.35|     0.69|   11.7|      8|1202|\n",
      "|          7.2|            0.33|       0.33|           1.7|               0.061|                3.0|                13.0|             0.996|3.23|      1.1|   10.0|      8|1403|\n",
      "|          7.2|            0.38|       0.31|           2.0|0.055999999999999994|               15.0|                29.0|           0.99472|3.23|     0.76|   11.3|      8|1449|\n",
      "|          7.4|            0.36|        0.3|           1.8| 0.07400000000000001|               17.0|                24.0|           0.99419|3.24|      0.7|   11.4|      8|1549|\n",
      "+-------------+----------------+-----------+--------------+--------------------+-------------------+--------------------+------------------+----+---------+-------+-------+----+\n",
      "\n"
     ]
    }
   ],
   "source": [
    "wine_df.filter(wine_df[\"quality\"]>7).show()"
   ]
  },
  {
   "cell_type": "code",
   "execution_count": 10,
   "metadata": {},
   "outputs": [
    {
     "name": "stdout",
     "output_type": "stream",
     "text": [
      "+-----------------+\n",
      "|     avg(alcohol)|\n",
      "+-----------------+\n",
      "|10.44211140274131|\n",
      "+-----------------+\n",
      "\n"
     ]
    }
   ],
   "source": [
    "wine_df.agg({\"alcohol\":\"mean\"}).show()   # Getting the aggregate "
   ]
  },
  {
   "cell_type": "code",
   "execution_count": 26,
   "metadata": {},
   "outputs": [],
   "source": [
    "wine_rdd = wine_df.rdd\n",
    "#print(f\"RDD :{wine_rdd.collect()}\")"
   ]
  },
  {
   "cell_type": "code",
   "execution_count": 14,
   "metadata": {},
   "outputs": [
    {
     "name": "stdout",
     "output_type": "stream",
     "text": [
      "+-----------------+\n",
      "|     avg(quality)|\n",
      "+-----------------+\n",
      "|5.657042869641295|\n",
      "+-----------------+\n",
      "\n"
     ]
    }
   ],
   "source": [
    "wine_df.agg({\"quality\":\"avg\"}).show()"
   ]
  },
  {
   "cell_type": "code",
   "execution_count": 18,
   "metadata": {},
   "outputs": [
    {
     "name": "stdout",
     "output_type": "stream",
     "text": [
      "Average Quality (RDD):5.657042869641292\n"
     ]
    }
   ],
   "source": [
    "avg_quality_rdd = wine_rdd.map(lambda row: row[\"quality\"]).mean()\n",
    "print(f\"Average Quality (RDD):{avg_quality_rdd}\")"
   ]
  },
  {
   "cell_type": "code",
   "execution_count": 20,
   "metadata": {},
   "outputs": [
    {
     "name": "stdout",
     "output_type": "stream",
     "text": [
      "Filtered Rows (Dataframe):609\n",
      "Filter Rows (RDD):609\n"
     ]
    }
   ],
   "source": [
    "filtered_df = wine_df.filter(wine_df[\"alcohol\"]>10)\n",
    "filtered_rdd = wine_df.rdd.filter(lambda row: row[\"alcohol\"] > 10)\n",
    "print(f\"Filtered Rows (Dataframe):{filtered_df.count()}\")\n",
    "print(f\"Filter Rows (RDD):{filtered_rdd.count()}\")\n"
   ]
  },
  {
   "cell_type": "code",
   "execution_count": 21,
   "metadata": {},
   "outputs": [
    {
     "name": "stdout",
     "output_type": "stream",
     "text": [
      "+-------+------------------+-------------------+-------------------+------------------+-------------------+-------------------+--------------------+--------------------+------------------+------------------+------------------+------------------+-----------------+\n",
      "|summary|     fixed acidity|   volatile acidity|        citric acid|    residual sugar|          chlorides|free sulfur dioxide|total sulfur dioxide|             density|                pH|         sulphates|           alcohol|           quality|               Id|\n",
      "+-------+------------------+-------------------+-------------------+------------------+-------------------+-------------------+--------------------+--------------------+------------------+------------------+------------------+------------------+-----------------+\n",
      "|  count|              1143|               1143|               1143|              1143|               1143|               1143|                1143|                1143|              1143|              1143|              1143|              1143|             1143|\n",
      "|   mean| 8.311111111111119|  0.531338582677165|0.26836395450568584|2.5321522309711257|0.08693263342082212| 15.615485564304462|   45.91469816272966|  0.9967304111986008|3.3110148731408593|0.6577077865266842| 10.44211140274131| 5.657042869641295|804.9693788276466|\n",
      "| stddev|1.7475950171695376|0.17963319302252453|0.19668585234821898|1.3559174666826797|0.04726733795238058|  10.25048612343082|  32.782130307343095|0.001925067130254...|0.1566640597727519| 0.170398714467074|1.0821956098764425|0.8058242481000955| 463.997116295106|\n",
      "|    min|               4.6|               0.12|                0.0|               0.9|              0.012|                1.0|                 6.0|  0.9900700000000001|              2.74|              0.33|               8.4|                 3|                0|\n",
      "|    max|              15.9|               1.58|                1.0|              15.5|              0.611|               68.0|               289.0|             1.00369|              4.01|               2.0|              14.9|                 8|             1597|\n",
      "+-------+------------------+-------------------+-------------------+------------------+-------------------+-------------------+--------------------+--------------------+------------------+------------------+------------------+------------------+-----------------+\n",
      "\n"
     ]
    }
   ],
   "source": [
    "wine_df.describe().show()"
   ]
  },
  {
   "cell_type": "code",
   "execution_count": 23,
   "metadata": {},
   "outputs": [],
   "source": [
    "# Model Implementation \n",
    "from pyspark.ml.feature import VectorAssembler\n",
    "from pyspark.ml.regression import LinearRegression\n",
    "\n",
    "assembler = VectorAssembler(inputCols=[\"alcohol\",\"volatile acidity\"],outputCol=\"features\")\n",
    "data =  assembler.transform(wine_df)\n",
    "lr = LinearRegression(featuresCol=\"features\",labelCol=\"quality\")\n",
    "model = lr.fit(data)\n"
   ]
  },
  {
   "cell_type": "code",
   "execution_count": 25,
   "metadata": {},
   "outputs": [
    {
     "name": "stdout",
     "output_type": "stream",
     "text": [
      "+-------+------------------+\n",
      "|quality|        prediction|\n",
      "+-------+------------------+\n",
      "|      5| 5.088174856811273|\n",
      "|      5| 4.953108261869783|\n",
      "|      5| 5.126396360877945|\n",
      "|      6| 5.819548756910594|\n",
      "|      5| 5.088174856811273|\n",
      "|      5| 5.145937556480661|\n",
      "|      5| 5.232581605984741|\n",
      "|      7| 5.347676561754136|\n",
      "|      7| 5.292679344212123|\n",
      "|      5| 5.199030179034059|\n",
      "|      5| 5.367002535572162|\n",
      "|      5|5.1244917658893305|\n",
      "|      7| 6.038063475659412|\n",
      "|      6| 5.574487726885078|\n",
      "|      5|  5.62948494442709|\n",
      "|      5|5.5092894679723265|\n",
      "|      5| 5.391429030075557|\n",
      "|      6| 5.615044269509744|\n",
      "|      5|5.5046193908563374|\n",
      "|      5|  5.53817081780702|\n",
      "+-------+------------------+\n",
      "only showing top 20 rows\n",
      "\n"
     ]
    }
   ],
   "source": [
    "predictions = model.transform(data)\n",
    "predictions.select(\"quality\",\"prediction\").show()\n"
   ]
  },
  {
   "cell_type": "code",
   "execution_count": null,
   "metadata": {},
   "outputs": [],
   "source": []
  }
 ],
 "metadata": {
  "kernelspec": {
   "display_name": "Python 3",
   "language": "python",
   "name": "python3"
  },
  "language_info": {
   "codemirror_mode": {
    "name": "ipython",
    "version": 3
   },
   "file_extension": ".py",
   "mimetype": "text/x-python",
   "name": "python",
   "nbconvert_exporter": "python",
   "pygments_lexer": "ipython3",
   "version": "3.11.3"
  }
 },
 "nbformat": 4,
 "nbformat_minor": 2
}
