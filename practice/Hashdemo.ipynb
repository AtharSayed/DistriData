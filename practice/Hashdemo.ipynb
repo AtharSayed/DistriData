{
 "cells": [
  {
   "cell_type": "code",
   "execution_count": 2,
   "metadata": {},
   "outputs": [
    {
     "name": "stdout",
     "output_type": "stream",
     "text": [
      "\n",
      "Original Text: athar\n",
      "SHA-256 Hash: 45c35a3db15037fd812652ba652762a5e3a92c3728c544e807142a7dcb752e9c\n"
     ]
    }
   ],
   "source": [
    "# 1) Simple Hash Generation.\n",
    "import hashlib\n",
    "\n",
    "def simple_hash(data):\n",
    "    \"\"\"Hashes the input using SHA-256.\"\"\"\n",
    "    return hashlib.sha256(data.encode()).hexdigest()\n",
    "\n",
    "# Example Usage\n",
    "text = input(\"Enter text to hash: \")\n",
    "hashed_value = simple_hash(text)\n",
    "\n",
    "print(f\"\\nOriginal Text: {text}\")\n",
    "print(f\"SHA-256 Hash: {hashed_value}\")\n"
   ]
  },
  {
   "cell_type": "code",
   "execution_count": 3,
   "metadata": {},
   "outputs": [
    {
     "name": "stdout",
     "output_type": "stream",
     "text": [
      "\n",
      "Original Password: athar\n",
      "Salt: a0ae0a31e0944fa248f58b675e78dc6d\n",
      "Salted SHA-256 Hash: b102337f0dcbcc96083bf27d93bc78c193e716bec6439589dbdf5b15f1da1fb5\n"
     ]
    }
   ],
   "source": [
    "# Hashing with Salting \n",
    "import hashlib\n",
    "import os\n",
    "\n",
    "def hash_with_salt(password):\n",
    "    \"\"\"Hashes a password using SHA-256 with a random salt.\"\"\"\n",
    "    salt = os.urandom(16)  # Generate a 16-byte random salt\n",
    "    hash_object = hashlib.sha256(salt + password.encode())\n",
    "    return salt.hex(), hash_object.hexdigest()\n",
    "\n",
    "# Example Usage\n",
    "password = input(\"Enter a password: \")\n",
    "salt, hashed_password = hash_with_salt(password)\n",
    "\n",
    "print(f\"\\nOriginal Password: {password}\")\n",
    "print(f\"Salt: {salt}\")\n",
    "print(f\"Salted SHA-256 Hash: {hashed_password}\")\n"
   ]
  },
  {
   "cell_type": "code",
   "execution_count": 4,
   "metadata": {},
   "outputs": [
    {
     "name": "stdout",
     "output_type": "stream",
     "text": [
      "Original Password: securepassword\n",
      "Modified Password: securepassworD\n",
      "Salt: b2b44700c9b2192e09635d3bde2dde0d\n",
      "\n",
      "Hashed Password 1: 6e35726ad75360666786ece7371dd141380bca3f26dc5d0dea1b146a325312bf\n",
      "Hashed Password 2: d4c1e517967488813563bac8e9afe6dbdc6e5da46ecc07efcb96ccd10b13c56c\n",
      "\n",
      "Bit Difference: 62 / 256 bits\n",
      "Avalanche Effect: 24.22% change in hash\n"
     ]
    }
   ],
   "source": [
    "# Demonstration of the Avalanche effect in hashing \n",
    "import hashlib\n",
    "import os\n",
    "\n",
    "def hash_password(password, salt=None):\n",
    "    \"\"\"Hashes a password using SHA-256 with an optional salt.\"\"\"\n",
    "    if salt is None:\n",
    "        salt = os.urandom(16)  # Generate a 16-byte random salt\n",
    "    hash_object = hashlib.sha256(salt + password.encode())\n",
    "    return salt.hex(), hash_object.hexdigest()\n",
    "\n",
    "# Example Usage: Two similar passwords\n",
    "password1 = \"securepassword\"\n",
    "password2 = \"securepassworD\"  # Small change: 'd' → 'D'\n",
    "\n",
    "salt, hash1 = hash_password(password1)\n",
    "_, hash2 = hash_password(password2, bytes.fromhex(salt))  # Use the same salt\n",
    "\n",
    "print(f\"Original Password: {password1}\")\n",
    "print(f\"Modified Password: {password2}\")\n",
    "print(f\"Salt: {salt}\\n\")\n",
    "\n",
    "print(f\"Hashed Password 1: {hash1}\")\n",
    "print(f\"Hashed Password 2: {hash2}\\n\")\n",
    "\n",
    "# Checking the difference between hash1 and hash2\n",
    "difference = sum(1 for a, b in zip(hash1, hash2) if a != b)\n",
    "total_length = len(hash1) * 4  # Each hex char = 4 bits\n",
    "percentage_change = (difference / total_length) * 100\n",
    "\n",
    "print(f\"Bit Difference: {difference} / {total_length} bits\")\n",
    "print(f\"Avalanche Effect: {percentage_change:.2f}% change in hash\")\n"
   ]
  }
 ],
 "metadata": {
  "kernelspec": {
   "display_name": "Python 3",
   "language": "python",
   "name": "python3"
  },
  "language_info": {
   "codemirror_mode": {
    "name": "ipython",
    "version": 3
   },
   "file_extension": ".py",
   "mimetype": "text/x-python",
   "name": "python",
   "nbconvert_exporter": "python",
   "pygments_lexer": "ipython3",
   "version": "3.11.3"
  }
 },
 "nbformat": 4,
 "nbformat_minor": 2
}
